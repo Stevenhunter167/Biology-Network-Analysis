{
 "cells": [
  {
   "cell_type": "code",
   "execution_count": 7,
   "metadata": {},
   "outputs": [
    {
     "name": "stdout",
     "output_type": "stream",
     "text": [
      "P(x1=0|y=0) = 2/3\n",
      "P(x2=0|y=0) = 1/3\n",
      "P(x1=0|y=1) = 3/5\n",
      "P(x2=0|y=1) = 3/5\n",
      "P(y=0) = 3/8\n"
     ]
    }
   ],
   "source": [
    "import numpy as np\n",
    "from fractions import Fraction\n",
    "\n",
    "import warnings\n",
    "warnings.filterwarnings('ignore')\n",
    "data=\"\"\"1 0 1\n",
    "0 0 0\n",
    "0 1 1\n",
    "0 0 1\n",
    "1 1 0\n",
    "1 0 1\n",
    "0 1 0\n",
    "0 1 1\"\"\"\n",
    "data=np.array([[int(x) for x in line.split()] for line in data.split('\\n')], dtype='int')\n",
    "X = data[:,:-1]\n",
    "Y = data[:,-1]\n",
    "def pxiy(i, xv, yv):\n",
    "    ''' calculates P(xi=xv|y=yv) using number of xi=xv given y=yv / number of y=yv '''\n",
    "    return Fraction(sum(X[Y == yv][:,i] == xv), sum(Y == yv))\n",
    "\n",
    "\n",
    "def py(yv):\n",
    "    ''' calculates P(y=yv) using number of y=yv / number of y '''\n",
    "    return Fraction(sum(Y == yv), len(Y))\n",
    "\n",
    "for jy in [0,1]:\n",
    "    for ix in [0,1]:\n",
    "        print(f\"P(x{ix+1}=0|y={jy}) = {pxiy(ix, 0, jy)}\")\n",
    "        \n",
    "print(f\"P(y=0) = {py(0)}\")"
   ]
  },
  {
   "cell_type": "code",
   "execution_count": 11,
   "metadata": {},
   "outputs": [],
   "source": [
    "def naiveBayes(xv, yv):\n",
    "    ''' calculates P(x1,x2,x3,x4,x5|y=yv) using naive bayes assumption '''\n",
    "    return np.prod([pxiy(i, xv[i], yv) for i in range(len(xv))])\n",
    "def pygivenx(xv, yv):\n",
    "    ''' calculates P(y=yv|x1,x2,x3,x4,x5) '''\n",
    "    return naiveBayes(xv,yv) * py(yv) / (naiveBayes(xv, 0) * py(0) + naiveBayes(xv, 1) * py(1))\n",
    "def predict(xv): # calculate probability using naive bayes assumption\n",
    "    ''' calculate probability using naive bayes assumption, comparing only p(x|y=yv) * p(y=yv) '''\n",
    "    return ([naiveBayes(xv,0) * py(0), naiveBayes(xv,1) * py(1)])\n",
    "def predictSoft(xv):\n",
    "    ''' calculate probability using naive bayes assumption '''\n",
    "    return [float(round(pygivenx(xv, 0), 2)), float(round(pygivenx(xv, 1), 2))]\n",
    "    #      [            P(y=0|x)            ,             P(y=1|x)            ]"
   ]
  },
  {
   "cell_type": "code",
   "execution_count": 12,
   "metadata": {},
   "outputs": [
    {
     "data": {
      "text/plain": [
       "[Fraction(1, 12), Fraction(9, 40)]"
      ]
     },
     "execution_count": 12,
     "metadata": {},
     "output_type": "execute_result"
    }
   ],
   "source": [
    "predict([0,0])"
   ]
  },
  {
   "cell_type": "code",
   "execution_count": 13,
   "metadata": {},
   "outputs": [
    {
     "data": {
      "text/plain": [
       "Fraction(9, 19)"
      ]
     },
     "execution_count": 13,
     "metadata": {},
     "output_type": "execute_result"
    }
   ],
   "source": [
    "pygivenx([0,1],1)"
   ]
  },
  {
   "cell_type": "code",
   "execution_count": 6,
   "metadata": {},
   "outputs": [
    {
     "data": {
      "text/plain": [
       "Fraction(9, 10)"
      ]
     },
     "execution_count": 6,
     "metadata": {},
     "output_type": "execute_result"
    }
   ],
   "source": [
    "pygivenx([1,0,0],1)"
   ]
  },
  {
   "cell_type": "code",
   "execution_count": null,
   "metadata": {},
   "outputs": [],
   "source": []
  }
 ],
 "metadata": {
  "kernelspec": {
   "display_name": "Python 3",
   "language": "python",
   "name": "python3"
  },
  "language_info": {
   "codemirror_mode": {
    "name": "ipython",
    "version": 3
   },
   "file_extension": ".py",
   "mimetype": "text/x-python",
   "name": "python",
   "nbconvert_exporter": "python",
   "pygments_lexer": "ipython3",
   "version": "3.8.4"
  }
 },
 "nbformat": 4,
 "nbformat_minor": 4
}
