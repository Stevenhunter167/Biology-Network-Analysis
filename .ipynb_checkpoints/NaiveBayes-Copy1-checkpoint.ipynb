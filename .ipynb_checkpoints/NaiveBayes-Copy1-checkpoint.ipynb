{
 "cells": [
  {
   "cell_type": "markdown",
   "metadata": {},
   "source": [
    "## Implementing a Naive Bayes Classifier"
   ]
  },
  {
   "cell_type": "code",
   "execution_count": 20,
   "metadata": {},
   "outputs": [],
   "source": [
    "import numpy as np\n",
    "from fractions import Fraction"
   ]
  },
  {
   "cell_type": "code",
   "execution_count": 2,
   "metadata": {},
   "outputs": [],
   "source": [
    "data=\"\"\"1 0 1\n",
    "0 0 0\n",
    "0 1 1\n",
    "0 0 1\n",
    "1 1 0\n",
    "1 0 1\n",
    "0 1 0\n",
    "0 1 1\"\"\"\n",
    "data=np.array([[int(x) for x in line.split()] for line in data.split('\\n')], dtype='int')\n",
    "X = data[:,:-1]\n",
    "Y = data[:,-1]"
   ]
  },
  {
   "cell_type": "markdown",
   "metadata": {},
   "source": [
    "## 1.\tProbabilities necessary for a NB classifier"
   ]
  },
  {
   "cell_type": "markdown",
   "metadata": {},
   "source": [
    "$P(x_i=xv|y=yv)=\\frac{count(x_i=xv, y=yv)}{count(y=yv)}$"
   ]
  },
  {
   "cell_type": "code",
   "execution_count": 3,
   "metadata": {},
   "outputs": [],
   "source": [
    "def pxiy(i, xv, yv):\n",
    "    ''' calculates P(xi=xv|y=yv) using number of xi=xv and y=yv / number of y=yv '''\n",
    "    return Fraction(sum(X[Y == yv][:,i] == xv), sum(Y == yv))"
   ]
  },
  {
   "cell_type": "markdown",
   "metadata": {},
   "source": [
    "$P(y=yv)=\\frac{count(y=yv)}{count(y)}$"
   ]
  },
  {
   "cell_type": "code",
   "execution_count": 4,
   "metadata": {},
   "outputs": [],
   "source": [
    "def py(yv):\n",
    "    ''' calculates P(y=yv) using number of y=yv / number of y '''\n",
    "    return Fraction(sum(Y == yv), len(Y))"
   ]
  },
  {
   "cell_type": "markdown",
   "metadata": {},
   "source": [
    "$P(x_i|y)$, probabilities not shown can be calculated using the law of total probability:"
   ]
  },
  {
   "cell_type": "code",
   "execution_count": 6,
   "metadata": {},
   "outputs": [
    {
     "name": "stdout",
     "output_type": "stream",
     "text": [
      "P(x1=0|y=0) = 2/3\n",
      "P(x2=0|y=0) = 1/3\n",
      "P(x1=0|y=1) = 3/5\n",
      "P(x2=0|y=1) = 3/5\n"
     ]
    }
   ],
   "source": [
    "for jy in [0,1]:\n",
    "    for ix in [0,1]:\n",
    "        print(f\"P(x{ix+1}=0|y={jy}) = {pxiy(ix, 0, jy)}\")"
   ]
  },
  {
   "cell_type": "markdown",
   "metadata": {},
   "source": [
    "$P(y)$, probabilities not shown can be calculated using the law of total probability:"
   ]
  },
  {
   "cell_type": "code",
   "execution_count": 7,
   "metadata": {},
   "outputs": [
    {
     "name": "stdout",
     "output_type": "stream",
     "text": [
      "P(y=0) = 3/8\n"
     ]
    }
   ],
   "source": [
    "print(f\"P(y=0) = {py(0)}\")"
   ]
  },
  {
   "cell_type": "markdown",
   "metadata": {},
   "source": [
    "Naive bayes solves the problem of combinatorial explotion of the parameters needed to store in the model. By assuming that the input features are conditionally independent on the target variable y, the number of parameters required for the prediction model is decreased. These are the parameters of the naive bayes classifier, in real world application these values are saved to compute prediction."
   ]
  },
  {
   "cell_type": "markdown",
   "metadata": {},
   "source": [
    "## 2. Using your NB model, what value of y is predicted given the observation (x1, x2) = (1, 1)?"
   ]
  },
  {
   "cell_type": "markdown",
   "metadata": {},
   "source": [
    "naive bayes assumes conditional independence between all input feature x on target y, in this case<br>\n",
    "$P(x1,x2|y=1) \\Longrightarrow \\prod_{i=1}^{2}P(xi|y=1)$"
   ]
  },
  {
   "cell_type": "code",
   "execution_count": 13,
   "metadata": {},
   "outputs": [],
   "source": [
    "def naiveBayes(xv, yv):\n",
    "    ''' calculates P(x1,x2,x3,x4,x5|y=yv) using naive bayes assumption '''\n",
    "    return np.prod([pxiy(i, xv[i], yv) for i in range(len(xv))])"
   ]
  },
  {
   "cell_type": "markdown",
   "metadata": {},
   "source": [
    "$P(y=yv|x=xv)\\Longrightarrow\\frac{\\prod_{i}^{}P(xi|y=yv) P(y=yv)}{P(x=xv)}$<br>\n",
    "where $P(x=xv)$ can be calculated as $\\sum_{yv\\in y}^{}P(x=xv|y=yv)\\Longrightarrow\\sum_{yv\\in y}^{}\\prod_{i}^{}P(xi=xv[i]|y=yv) P(y=yv)$<br>\n",
    "using the law of total probability and naive bayes assumption"
   ]
  },
  {
   "cell_type": "code",
   "execution_count": 14,
   "metadata": {},
   "outputs": [],
   "source": [
    "def pygivenx(xv, yv):\n",
    "    ''' calculates P(y=yv|x1,x2) '''\n",
    "    return (naiveBayes(xv,yv) * py(yv)/ (naiveBayes(xv, 0) * py(0) + naiveBayes(xv, 1) * py(1)))"
   ]
  },
  {
   "cell_type": "markdown",
   "metadata": {},
   "source": [
    "Since $P(y=yv|x=xv)\\propto\\prod_{i}^{}P(xi=xv[i]|y=yv) P(y=yv)$<br>\n",
    "We can compute and then compare this value with different y<br>\n",
    "In this case since we only have 2 possible values for y, predict can be computed by finding the maximum $P(y=yv|x=xv)$ given each possible y value:"
   ]
  },
  {
   "cell_type": "code",
   "execution_count": 15,
   "metadata": {},
   "outputs": [],
   "source": [
    "def predict(xv): # calculate probability using naive bayes assumption\n",
    "    ''' calculate probability using naive bayes assumption, comparing only p(x|y=yv) * p(y=yv) '''\n",
    "    return np.argmax([naiveBayes(xv,0) * py(0), naiveBayes(xv,1) * py(1)])"
   ]
  },
  {
   "cell_type": "markdown",
   "metadata": {},
   "source": [
    "predict soft computes the probability of each class using $P(y=yv|x=xv)$"
   ]
  },
  {
   "cell_type": "code",
   "execution_count": 11,
   "metadata": {},
   "outputs": [],
   "source": [
    "def predictSoft(xv):\n",
    "    ''' calculate probability using naive bayes assumption '''\n",
    "    return [float(round(pygivenx(xv, 0), 2)), float(round(pygivenx(xv, 1), 2))]\n",
    "    #      [            P(y=0|x)            ,             P(y=1|x)            ]"
   ]
  },
  {
   "cell_type": "code",
   "execution_count": 16,
   "metadata": {},
   "outputs": [
    {
     "data": {
      "text/plain": [
       "[0.45, 0.55]"
      ]
     },
     "execution_count": 16,
     "metadata": {},
     "output_type": "execute_result"
    }
   ],
   "source": [
    "predictSoft([1,1])"
   ]
  },
  {
   "cell_type": "code",
   "execution_count": 17,
   "metadata": {},
   "outputs": [
    {
     "data": {
      "text/plain": [
       "1"
      ]
     },
     "execution_count": 17,
     "metadata": {},
     "output_type": "execute_result"
    }
   ],
   "source": [
    "predict([1,1])"
   ]
  },
  {
   "cell_type": "markdown",
   "metadata": {},
   "source": [
    "The answer is 1, since classifier predicts 0.55 probability that y=1 and 0.45 probability that y=0"
   ]
  },
  {
   "cell_type": "markdown",
   "metadata": {},
   "source": [
    "## 3. Using your NB model, what is the probability p(y = 0|x1 = 1, x2 = 0)? "
   ]
  },
  {
   "cell_type": "code",
   "execution_count": 18,
   "metadata": {},
   "outputs": [
    {
     "data": {
      "text/plain": [
       "0.21739130434782608"
      ]
     },
     "execution_count": 18,
     "metadata": {},
     "output_type": "execute_result"
    }
   ],
   "source": [
    "float(pygivenx(xv=[1,0], yv=0))"
   ]
  },
  {
   "cell_type": "markdown",
   "metadata": {},
   "source": [
    "The answer is $P(y = 0|x1 = 1, x2 = 0) = 0.217$"
   ]
  },
  {
   "cell_type": "markdown",
   "metadata": {},
   "source": [
    "## 4. Using your NB model, what is the probability p(y = 1|x2 = 0)?"
   ]
  },
  {
   "cell_type": "markdown",
   "metadata": {},
   "source": [
    "$P(y=1|x_3=0) = \\frac{P(x_3=0|y=1)P(y=1)}{P(x_3=0)} = \\frac{P(x_3=0|y=1)P(y=1)}{P(x_3=0|y=1)P(y=1)+P(x_3=0|y=0)P(y=0)}$<br>\n",
    "here x2 is at index 1, therefore i=1"
   ]
  },
  {
   "cell_type": "code",
   "execution_count": 19,
   "metadata": {},
   "outputs": [
    {
     "data": {
      "text/plain": [
       "0.75"
      ]
     },
     "execution_count": 19,
     "metadata": {},
     "output_type": "execute_result"
    }
   ],
   "source": [
    "float(pxiy(i=1, xv=0, yv=1) * py(yv=1) / (pxiy(i=1, xv=0, yv=0) * py(yv=0) + pxiy(i=1, xv=0, yv=1) * py(yv=1)))"
   ]
  },
  {
   "cell_type": "markdown",
   "metadata": {},
   "source": [
    "The answer is $P(y=1|x_3=0)=0.75$"
   ]
  }
 ],
 "metadata": {
  "kernelspec": {
   "display_name": "Python 3",
   "language": "python",
   "name": "python3"
  },
  "language_info": {
   "codemirror_mode": {
    "name": "ipython",
    "version": 3
   },
   "file_extension": ".py",
   "mimetype": "text/x-python",
   "name": "python",
   "nbconvert_exporter": "python",
   "pygments_lexer": "ipython3",
   "version": "3.8.4"
  }
 },
 "nbformat": 4,
 "nbformat_minor": 4
}
